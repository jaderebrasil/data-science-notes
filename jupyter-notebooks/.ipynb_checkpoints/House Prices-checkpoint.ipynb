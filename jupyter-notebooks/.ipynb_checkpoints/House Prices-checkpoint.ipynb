{
 "cells": [
  {
   "cell_type": "markdown",
   "id": "95b7c541",
   "metadata": {},
   "source": [
    "# Setup"
   ]
  },
  {
   "cell_type": "code",
   "execution_count": 34,
   "id": "1126a824",
   "metadata": {},
   "outputs": [
    {
     "name": "stdout",
     "output_type": "stream",
     "text": [
      "Setup complete.\n"
     ]
    }
   ],
   "source": [
    "# General imports:\n",
    "import pandas as pd\n",
    "\n",
    "from termcolor import colored\n",
    "from IPython.display import display\n",
    "\n",
    "# ploting\n",
    "import matplotlib.pyplot as plt\n",
    "%matplotlib inline\n",
    "import seaborn as sns\n",
    "sns.set_style('darkgrid')\n",
    "\n",
    "# preprocessing\n",
    "from sklearn.model_selection import train_test_split\n",
    "from sklearn.compose import ColumnTransformer\n",
    "from sklearn.pipeline import Pipeline\n",
    "from sklearn.impute import SimpleImputer\n",
    "from sklearn.preprocessing import OneHotEncoder\n",
    "\n",
    "# models\n",
    "from sklearn.ensemble import RandomForestRegressor\n",
    "\n",
    "# evaluating\n",
    "from sklearn.metrics import mean_absolute_error\n",
    "\n",
    "# Global variables:\n",
    "target = 'SalePrice'\n",
    "train_path = '../data/house-prices/train.csv'\n",
    "test_path = '../data/house-prices/test.csv'\n",
    "submission_path = '../data/house-prices/submission.csv'\n",
    "\n",
    "print('Setup complete.')"
   ]
  },
  {
   "cell_type": "code",
   "execution_count": 27,
   "id": "4f15d85c",
   "metadata": {},
   "outputs": [
    {
     "name": "stdout",
     "output_type": "stream",
     "text": [
      "\u001b[1m\u001b[2m\u001b[34mTrain data columns\u001b[0m\n",
      "\u001b[32mIndex(['Id', 'MSSubClass', 'MSZoning', 'LotFrontage', 'LotArea', 'Street',\n",
      "       'Alley', 'LotShape', 'LandContour', 'Utilities', 'LotConfig',\n",
      "       'LandSlope', 'Neighborhood', 'Condition1', 'Condition2', 'BldgType',\n",
      "       'HouseStyle', 'OverallQual', 'OverallCond', 'YearBuilt', 'YearRemodAdd',\n",
      "       'RoofStyle', 'RoofMatl', 'Exterior1st', 'Exterior2nd', 'MasVnrType',\n",
      "       'MasVnrArea', 'ExterQual', 'ExterCond', 'Foundation', 'BsmtQual',\n",
      "       'BsmtCond', 'BsmtExposure', 'BsmtFinType1', 'BsmtFinSF1',\n",
      "       'BsmtFinType2', 'BsmtFinSF2', 'BsmtUnfSF', 'TotalBsmtSF', 'Heating',\n",
      "       'HeatingQC', 'CentralAir', 'Electrical', '1stFlrSF', '2ndFlrSF',\n",
      "       'LowQualFinSF', 'GrLivArea', 'BsmtFullBath', 'BsmtHalfBath', 'FullBath',\n",
      "       'HalfBath', 'BedroomAbvGr', 'KitchenAbvGr', 'KitchenQual',\n",
      "       'TotRmsAbvGrd', 'Functional', 'Fireplaces', 'FireplaceQu', 'GarageType',\n",
      "       'GarageYrBlt', 'GarageFinish', 'GarageCars', 'GarageArea', 'GarageQual',\n",
      "       'GarageCond', 'PavedDrive', 'WoodDeckSF', 'OpenPorchSF',\n",
      "       'EnclosedPorch', '3SsnPorch', 'ScreenPorch', 'PoolArea', 'PoolQC',\n",
      "       'Fence', 'MiscFeature', 'MiscVal', 'MoSold', 'YrSold', 'SaleType',\n",
      "       'SaleCondition'],\n",
      "      dtype='object')\u001b[0m\n",
      "\u001b[1m\u001b[2m\u001b[31m80 columns\u001b[0m\n",
      "\u001b[31mobject     43\n",
      "int64      34\n",
      "float64     3\n",
      "dtype: int64\u001b[0m\n"
     ]
    }
   ],
   "source": [
    "# Loading data:\n",
    "X_full = pd.read_csv(train_path)\n",
    "X_test_full  = pd.read_csv(test_path)\n",
    "\n",
    "X_full.dropna(axis=0, subset=[target], inplace=True)\n",
    "y = X_full[target]\n",
    "X_full.drop([target], axis=1, inplace=True)\n",
    "\n",
    "#display(data_train.head())\n",
    "print(colored(f\"Train data columns\", color = 'blue', attrs= ['dark', 'bold']))\n",
    "print(colored(X_full.columns, color = 'green'))\n",
    "print(colored('%d columns' % X_full.columns.size, color = 'red', attrs= ['dark', 'bold']))\n",
    "print(colored(X_full.dtypes.value_counts(), color = 'red'))"
   ]
  },
  {
   "cell_type": "markdown",
   "id": "5f3a2a32",
   "metadata": {},
   "source": [
    "# Preprocessing and basic checks"
   ]
  },
  {
   "cell_type": "code",
   "execution_count": 29,
   "id": "7dad0644",
   "metadata": {},
   "outputs": [
    {
     "name": "stdout",
     "output_type": "stream",
     "text": [
      "done.\n"
     ]
    }
   ],
   "source": [
    "# Split train/test\n",
    "X_train_full, X_valid_full, y_train, y_valid = train_test_split(X, y, \n",
    "                                                                train_size=0.8, test_size=0.2,\n",
    "                                                                random_state=0)\n",
    "\n",
    "cat_cols = [col for col in X_train_full.columns if \n",
    "            X_train_full[col].nunique() < 10 and\n",
    "            X_train_full[col].dtype == 'object']\n",
    "\n",
    "num_cols = [col for col in X_train_full.columns if\n",
    "            X_train_full[col].dtype in ['int64', 'float64']]\n",
    "\n",
    "my_cols = cat_cols + num_cols\n",
    "X_train = X_train_full[my_cols].copy()\n",
    "X_valid = X_valid_full[my_cols].copy()\n",
    "X_test  = X_test_full[my_cols].copy()\n",
    "\n",
    "print('done.')"
   ]
  },
  {
   "cell_type": "code",
   "execution_count": 30,
   "id": "dd4bd340",
   "metadata": {},
   "outputs": [
    {
     "name": "stdout",
     "output_type": "stream",
     "text": [
      "preprocessor done.\n"
     ]
    }
   ],
   "source": [
    "# Preprocessor\n",
    "num_transf = SimpleImputer(strategy='constant')\n",
    "cat_transf = Pipeline(steps=[\n",
    "    ('impute', SimpleImputer(strategy='most_frequent')),\n",
    "    ('onehot', OneHotEncoder(handle_unknown='ignore'))\n",
    "])\n",
    "\n",
    "preprocessor = ColumnTransformer(\n",
    "    transformers=[\n",
    "        ('num', num_transf, num_cols),\n",
    "        ('cat', cat_transf, cat_cols)\n",
    "    ]\n",
    ")\n",
    "\n",
    "print('preprocessor done.')"
   ]
  },
  {
   "cell_type": "markdown",
   "id": "68ed3a24",
   "metadata": {},
   "source": [
    "# Choosing the model"
   ]
  },
  {
   "cell_type": "code",
   "execution_count": 59,
   "id": "77b0c3e0",
   "metadata": {},
   "outputs": [
    {
     "name": "stdout",
     "output_type": "stream",
     "text": [
      "best: 770 (mae 17400.31)\n"
     ]
    }
   ],
   "source": [
    "def score_model(n_estimators, X_train, y_train, X_valid, y_valid):\n",
    "    model = RandomForestRegressor(n_estimators=n_estimators, random_state=0)\n",
    "    model.fit(X_train, y_train)\n",
    "    preds = model.predict(X_valid) \n",
    "    return mean_absolute_error(y_valid, preds)\n",
    "\n",
    "processed_X_train = preprocessor.fit_transform(X_train, y_train)\n",
    "processed_X_valid = preprocessor.transform(X_valid)\n",
    "\n",
    "scores_dict = {\n",
    "    n: score_model(n, processed_X_train, y_train, processed_X_valid, y_valid)\n",
    "        for n in range(700, 900, 10)\n",
    "}\n",
    "\n",
    "# best: 800 (mae 17413.38)\n",
    "# best: 770 (mae 17400.31)\n",
    "\n",
    "best_par =  min(scores_dict, key=scores_dict.get)\n",
    "print('best: %d (mae %.2f)' % (best_par, scores_dict[best_par]))"
   ]
  },
  {
   "cell_type": "markdown",
   "id": "5a73bd15",
   "metadata": {},
   "source": [
    "# Creating the final model"
   ]
  },
  {
   "cell_type": "code",
   "execution_count": 66,
   "id": "4e1cc7a2",
   "metadata": {},
   "outputs": [
    {
     "name": "stdout",
     "output_type": "stream",
     "text": [
      "Done.\n"
     ]
    }
   ],
   "source": [
    "best_par = 770\n",
    "model = RandomForestRegressor(n_estimators=best_par, random_state=0)\n",
    "\n",
    "# Creating pipeline\n",
    "pipeline = Pipeline(steps=[\n",
    "    ('preprocessor', preprocessor),\n",
    "    ('model', model)\n",
    "])\n",
    "\n",
    "# fit\n",
    "pipeline.fit(X, y)\n",
    "\n",
    "# prediction\n",
    "preds_test = pipeline.predict(X_test)\n",
    "\n",
    "# Save test predictions to file\n",
    "output = pd.DataFrame({'Id': X_test.Id,\n",
    "                       'SalePrice': preds_test})\n",
    "output.to_csv(submission_path, index=False)\n",
    "\n",
    "print('Done.')"
   ]
  },
  {
   "cell_type": "code",
   "execution_count": null,
   "id": "1f4b2d1d",
   "metadata": {},
   "outputs": [],
   "source": []
  }
 ],
 "metadata": {
  "kernelspec": {
   "display_name": "Python 3 (ipykernel)",
   "language": "python",
   "name": "python3"
  },
  "language_info": {
   "codemirror_mode": {
    "name": "ipython",
    "version": 3
   },
   "file_extension": ".py",
   "mimetype": "text/x-python",
   "name": "python",
   "nbconvert_exporter": "python",
   "pygments_lexer": "ipython3",
   "version": "3.9.12"
  }
 },
 "nbformat": 4,
 "nbformat_minor": 5
}
